{
 "cells": [
  {
   "attachments": {},
   "cell_type": "markdown",
   "id": "ce060bc6",
   "metadata": {},
   "source": [
    "# MSA 2023 Phase 2 - Part 2\n"
   ]
  },
  {
   "cell_type": "code",
   "execution_count": 18,
   "id": "7d488f42",
   "metadata": {},
   "outputs": [],
   "source": [
    "import sklearn\n",
    "import numpy as np\n",
    "import pandas as pd\n",
    "import seaborn as sns\n",
    "import matplotlib.pyplot as plt\n",
    "from sklearn.model_selection import train_test_split,cross_val_score,GridSearchCV\n",
    "from sklearn.linear_model import LinearRegression\n",
    "from sklearn.metrics import mean_squared_error,accuracy_score,confusion_matrix,classification_report,roc_curve, auc\n",
    "import pickle\n",
    "from sklearn.ensemble import RandomForestClassifier,RandomForestRegressor\n",
    "\n",
    "from sklearn.linear_model import Lasso\n",
    "\n",
    "RANDOM_STATE = 101\n",
    "%matplotlib inline"
   ]
  },
  {
   "cell_type": "markdown",
   "id": "ea7bdc10",
   "metadata": {},
   "source": [
    "# Data salaries\n"
   ]
  },
  {
   "cell_type": "markdown",
   "id": "eec53926",
   "metadata": {},
   "source": [
    "## 1. Load and split preprocessed data\n"
   ]
  },
  {
   "cell_type": "code",
   "execution_count": 2,
   "id": "b749417c",
   "metadata": {},
   "outputs": [
    {
     "name": "stdout",
     "output_type": "stream",
     "text": [
      "(2584, 6)\n"
     ]
    },
    {
     "data": {
      "text/html": [
       "<div>\n",
       "<style scoped>\n",
       "    .dataframe tbody tr th:only-of-type {\n",
       "        vertical-align: middle;\n",
       "    }\n",
       "\n",
       "    .dataframe tbody tr th {\n",
       "        vertical-align: top;\n",
       "    }\n",
       "\n",
       "    .dataframe thead th {\n",
       "        text-align: right;\n",
       "    }\n",
       "</style>\n",
       "<table border=\"1\" class=\"dataframe\">\n",
       "  <thead>\n",
       "    <tr style=\"text-align: right;\">\n",
       "      <th></th>\n",
       "      <th>work_year</th>\n",
       "      <th>experience_level</th>\n",
       "      <th>job_title</th>\n",
       "      <th>employee_residence</th>\n",
       "      <th>company_location</th>\n",
       "      <th>salary_in_usd</th>\n",
       "    </tr>\n",
       "  </thead>\n",
       "  <tbody>\n",
       "    <tr>\n",
       "      <th>0</th>\n",
       "      <td>2023</td>\n",
       "      <td>3</td>\n",
       "      <td>84</td>\n",
       "      <td>26</td>\n",
       "      <td>25</td>\n",
       "      <td>85847</td>\n",
       "    </tr>\n",
       "    <tr>\n",
       "      <th>1</th>\n",
       "      <td>2023</td>\n",
       "      <td>2</td>\n",
       "      <td>66</td>\n",
       "      <td>75</td>\n",
       "      <td>70</td>\n",
       "      <td>30000</td>\n",
       "    </tr>\n",
       "    <tr>\n",
       "      <th>2</th>\n",
       "      <td>2023</td>\n",
       "      <td>2</td>\n",
       "      <td>66</td>\n",
       "      <td>75</td>\n",
       "      <td>70</td>\n",
       "      <td>25500</td>\n",
       "    </tr>\n",
       "    <tr>\n",
       "      <th>3</th>\n",
       "      <td>2023</td>\n",
       "      <td>3</td>\n",
       "      <td>47</td>\n",
       "      <td>11</td>\n",
       "      <td>12</td>\n",
       "      <td>175000</td>\n",
       "    </tr>\n",
       "    <tr>\n",
       "      <th>4</th>\n",
       "      <td>2023</td>\n",
       "      <td>3</td>\n",
       "      <td>47</td>\n",
       "      <td>11</td>\n",
       "      <td>12</td>\n",
       "      <td>120000</td>\n",
       "    </tr>\n",
       "    <tr>\n",
       "      <th>5</th>\n",
       "      <td>2023</td>\n",
       "      <td>3</td>\n",
       "      <td>8</td>\n",
       "      <td>75</td>\n",
       "      <td>70</td>\n",
       "      <td>222200</td>\n",
       "    </tr>\n",
       "    <tr>\n",
       "      <th>6</th>\n",
       "      <td>2023</td>\n",
       "      <td>3</td>\n",
       "      <td>8</td>\n",
       "      <td>75</td>\n",
       "      <td>70</td>\n",
       "      <td>136000</td>\n",
       "    </tr>\n",
       "    <tr>\n",
       "      <th>7</th>\n",
       "      <td>2023</td>\n",
       "      <td>3</td>\n",
       "      <td>47</td>\n",
       "      <td>11</td>\n",
       "      <td>12</td>\n",
       "      <td>219000</td>\n",
       "    </tr>\n",
       "    <tr>\n",
       "      <th>8</th>\n",
       "      <td>2023</td>\n",
       "      <td>3</td>\n",
       "      <td>47</td>\n",
       "      <td>11</td>\n",
       "      <td>12</td>\n",
       "      <td>141000</td>\n",
       "    </tr>\n",
       "    <tr>\n",
       "      <th>9</th>\n",
       "      <td>2023</td>\n",
       "      <td>3</td>\n",
       "      <td>47</td>\n",
       "      <td>75</td>\n",
       "      <td>70</td>\n",
       "      <td>147100</td>\n",
       "    </tr>\n",
       "  </tbody>\n",
       "</table>\n",
       "</div>"
      ],
      "text/plain": [
       "   work_year  experience_level  job_title  employee_residence  \\\n",
       "0       2023                 3         84                  26   \n",
       "1       2023                 2         66                  75   \n",
       "2       2023                 2         66                  75   \n",
       "3       2023                 3         47                  11   \n",
       "4       2023                 3         47                  11   \n",
       "5       2023                 3          8                  75   \n",
       "6       2023                 3          8                  75   \n",
       "7       2023                 3         47                  11   \n",
       "8       2023                 3         47                  11   \n",
       "9       2023                 3         47                  75   \n",
       "\n",
       "   company_location  salary_in_usd  \n",
       "0                25          85847  \n",
       "1                70          30000  \n",
       "2                70          25500  \n",
       "3                12         175000  \n",
       "4                12         120000  \n",
       "5                70         222200  \n",
       "6                70         136000  \n",
       "7                12         219000  \n",
       "8                12         141000  \n",
       "9                70         147100  "
      ]
     },
     "execution_count": 2,
     "metadata": {},
     "output_type": "execute_result"
    }
   ],
   "source": [
    "df_salaries = pd.read_csv(\n",
    "    '../0. Resources/datasets/data_salaries_preprocessed.csv')\n",
    "print(df_salaries.shape)\n",
    "df_salaries.head(10)"
   ]
  },
  {
   "cell_type": "code",
   "execution_count": 3,
   "id": "784c8dfd",
   "metadata": {},
   "outputs": [
    {
     "name": "stdout",
     "output_type": "stream",
     "text": [
      "Training data of X has shape: (1808, 5)\n",
      "Training data of y has shape: (1808,)\n"
     ]
    }
   ],
   "source": [
    "X = df_salaries.drop('salary_in_usd', axis=1)\n",
    "y = df_salaries['salary_in_usd']\n",
    "X_train, X_test, y_train, y_test = train_test_split(\n",
    "    X, y, test_size=0.3, random_state=42)\n",
    "print(f'Training data of X has shape: {X_train.shape}')\n",
    "print(f'Training data of y has shape: {y_train.shape}')"
   ]
  },
  {
   "cell_type": "markdown",
   "id": "6a0086c4",
   "metadata": {},
   "source": [
    "## 2. Choose an algorithm\n"
   ]
  },
  {
   "cell_type": "markdown",
   "id": "a1531f20",
   "metadata": {},
   "source": [
    "linear regression\n",
    "\n",
    "- It focuses on the relationships between variables that are easy to implement. It is also less complex, and in some ways it can be used to avoid outliers.\n"
   ]
  },
  {
   "cell_type": "markdown",
   "id": "ad1d9b0e",
   "metadata": {},
   "source": [
    "lasso\n"
   ]
  },
  {
   "cell_type": "code",
   "execution_count": 4,
   "id": "31f58bf1",
   "metadata": {},
   "outputs": [
    {
     "data": {
      "text/plain": [
       "54732.98057236904"
      ]
     },
     "execution_count": 4,
     "metadata": {},
     "output_type": "execute_result"
    }
   ],
   "source": [
    "lasso = Lasso()\n",
    "lasso.fit(X_train, y_train)\n",
    "\n",
    "y_pred_lasso = lasso.predict(X_test)\n",
    "\n",
    "rmse_lasso = mean_squared_error(\n",
    "    y_test, y_pred_lasso, squared=False)\n",
    "\n",
    "rmse_lasso"
   ]
  },
  {
   "cell_type": "markdown",
   "id": "34fb06b0",
   "metadata": {},
   "source": [
    "random forest regression\n"
   ]
  },
  {
   "cell_type": "code",
   "execution_count": 5,
   "id": "20b2cca1",
   "metadata": {},
   "outputs": [
    {
     "data": {
      "text/plain": [
       "53498.53385698836"
      ]
     },
     "execution_count": 5,
     "metadata": {},
     "output_type": "execute_result"
    }
   ],
   "source": [
    "\n",
    "rf = RandomForestRegressor(random_state=RANDOM_STATE)\n",
    "rf.fit(X_train, y_train)\n",
    "y_pred_rf = rf.predict(X_test)\n",
    "mean_squared_error(y_test, y_pred_rf, squared=False)"
   ]
  },
  {
   "cell_type": "markdown",
   "id": "7c38b93c",
   "metadata": {},
   "source": [
    "## 3. Train and test a model\n"
   ]
  },
  {
   "cell_type": "code",
   "execution_count": 6,
   "id": "553624a1",
   "metadata": {},
   "outputs": [
    {
     "data": {
      "text/html": [
       "<style>#sk-container-id-1 {color: black;background-color: white;}#sk-container-id-1 pre{padding: 0;}#sk-container-id-1 div.sk-toggleable {background-color: white;}#sk-container-id-1 label.sk-toggleable__label {cursor: pointer;display: block;width: 100%;margin-bottom: 0;padding: 0.3em;box-sizing: border-box;text-align: center;}#sk-container-id-1 label.sk-toggleable__label-arrow:before {content: \"▸\";float: left;margin-right: 0.25em;color: #696969;}#sk-container-id-1 label.sk-toggleable__label-arrow:hover:before {color: black;}#sk-container-id-1 div.sk-estimator:hover label.sk-toggleable__label-arrow:before {color: black;}#sk-container-id-1 div.sk-toggleable__content {max-height: 0;max-width: 0;overflow: hidden;text-align: left;background-color: #f0f8ff;}#sk-container-id-1 div.sk-toggleable__content pre {margin: 0.2em;color: black;border-radius: 0.25em;background-color: #f0f8ff;}#sk-container-id-1 input.sk-toggleable__control:checked~div.sk-toggleable__content {max-height: 200px;max-width: 100%;overflow: auto;}#sk-container-id-1 input.sk-toggleable__control:checked~label.sk-toggleable__label-arrow:before {content: \"▾\";}#sk-container-id-1 div.sk-estimator input.sk-toggleable__control:checked~label.sk-toggleable__label {background-color: #d4ebff;}#sk-container-id-1 div.sk-label input.sk-toggleable__control:checked~label.sk-toggleable__label {background-color: #d4ebff;}#sk-container-id-1 input.sk-hidden--visually {border: 0;clip: rect(1px 1px 1px 1px);clip: rect(1px, 1px, 1px, 1px);height: 1px;margin: -1px;overflow: hidden;padding: 0;position: absolute;width: 1px;}#sk-container-id-1 div.sk-estimator {font-family: monospace;background-color: #f0f8ff;border: 1px dotted black;border-radius: 0.25em;box-sizing: border-box;margin-bottom: 0.5em;}#sk-container-id-1 div.sk-estimator:hover {background-color: #d4ebff;}#sk-container-id-1 div.sk-parallel-item::after {content: \"\";width: 100%;border-bottom: 1px solid gray;flex-grow: 1;}#sk-container-id-1 div.sk-label:hover label.sk-toggleable__label {background-color: #d4ebff;}#sk-container-id-1 div.sk-serial::before {content: \"\";position: absolute;border-left: 1px solid gray;box-sizing: border-box;top: 0;bottom: 0;left: 50%;z-index: 0;}#sk-container-id-1 div.sk-serial {display: flex;flex-direction: column;align-items: center;background-color: white;padding-right: 0.2em;padding-left: 0.2em;position: relative;}#sk-container-id-1 div.sk-item {position: relative;z-index: 1;}#sk-container-id-1 div.sk-parallel {display: flex;align-items: stretch;justify-content: center;background-color: white;position: relative;}#sk-container-id-1 div.sk-item::before, #sk-container-id-1 div.sk-parallel-item::before {content: \"\";position: absolute;border-left: 1px solid gray;box-sizing: border-box;top: 0;bottom: 0;left: 50%;z-index: -1;}#sk-container-id-1 div.sk-parallel-item {display: flex;flex-direction: column;z-index: 1;position: relative;background-color: white;}#sk-container-id-1 div.sk-parallel-item:first-child::after {align-self: flex-end;width: 50%;}#sk-container-id-1 div.sk-parallel-item:last-child::after {align-self: flex-start;width: 50%;}#sk-container-id-1 div.sk-parallel-item:only-child::after {width: 0;}#sk-container-id-1 div.sk-dashed-wrapped {border: 1px dashed gray;margin: 0 0.4em 0.5em 0.4em;box-sizing: border-box;padding-bottom: 0.4em;background-color: white;}#sk-container-id-1 div.sk-label label {font-family: monospace;font-weight: bold;display: inline-block;line-height: 1.2em;}#sk-container-id-1 div.sk-label-container {text-align: center;}#sk-container-id-1 div.sk-container {/* jupyter's `normalize.less` sets `[hidden] { display: none; }` but bootstrap.min.css set `[hidden] { display: none !important; }` so we also need the `!important` here to be able to override the default hidden behavior on the sphinx rendered scikit-learn.org. See: https://github.com/scikit-learn/scikit-learn/issues/21755 */display: inline-block !important;position: relative;}#sk-container-id-1 div.sk-text-repr-fallback {display: none;}</style><div id=\"sk-container-id-1\" class=\"sk-top-container\"><div class=\"sk-text-repr-fallback\"><pre>LinearRegression()</pre><b>In a Jupyter environment, please rerun this cell to show the HTML representation or trust the notebook. <br />On GitHub, the HTML representation is unable to render, please try loading this page with nbviewer.org.</b></div><div class=\"sk-container\" hidden><div class=\"sk-item\"><div class=\"sk-estimator sk-toggleable\"><input class=\"sk-toggleable__control sk-hidden--visually\" id=\"sk-estimator-id-1\" type=\"checkbox\" checked><label for=\"sk-estimator-id-1\" class=\"sk-toggleable__label sk-toggleable__label-arrow\">LinearRegression</label><div class=\"sk-toggleable__content\"><pre>LinearRegression()</pre></div></div></div></div></div>"
      ],
      "text/plain": [
       "LinearRegression()"
      ]
     },
     "execution_count": 6,
     "metadata": {},
     "output_type": "execute_result"
    }
   ],
   "source": [
    "model = LinearRegression()\n",
    "model.fit(X_train, y_train)"
   ]
  },
  {
   "cell_type": "markdown",
   "id": "708739e8",
   "metadata": {},
   "source": [
    "## 4. Evaluate the model\n"
   ]
  },
  {
   "cell_type": "code",
   "execution_count": 7,
   "id": "e9ba19ba",
   "metadata": {},
   "outputs": [
    {
     "name": "stdout",
     "output_type": "stream",
     "text": [
      "Mean Squared Error: 54732.80897374218\n"
     ]
    }
   ],
   "source": [
    "y_pred = model.predict(X_test)\n",
    "mse = mean_squared_error(y_test, y_pred, squared=False)\n",
    "print(f\"Mean Squared Error: {mse}\")"
   ]
  },
  {
   "cell_type": "markdown",
   "id": "c733c82d",
   "metadata": {},
   "source": [
    "# Credit Risk\n"
   ]
  },
  {
   "attachments": {},
   "cell_type": "markdown",
   "id": "08c4bc0a",
   "metadata": {},
   "source": [
    "## 1. Load and split preprocessed data\n"
   ]
  },
  {
   "cell_type": "code",
   "execution_count": 8,
   "id": "bd7907d3",
   "metadata": {},
   "outputs": [
    {
     "name": "stdout",
     "output_type": "stream",
     "text": [
      "(1268, 11)\n"
     ]
    },
    {
     "data": {
      "text/html": [
       "<div>\n",
       "<style scoped>\n",
       "    .dataframe tbody tr th:only-of-type {\n",
       "        vertical-align: middle;\n",
       "    }\n",
       "\n",
       "    .dataframe tbody tr th {\n",
       "        vertical-align: top;\n",
       "    }\n",
       "\n",
       "    .dataframe thead th {\n",
       "        text-align: right;\n",
       "    }\n",
       "</style>\n",
       "<table border=\"1\" class=\"dataframe\">\n",
       "  <thead>\n",
       "    <tr style=\"text-align: right;\">\n",
       "      <th></th>\n",
       "      <th>checking_status</th>\n",
       "      <th>duration</th>\n",
       "      <th>purpose</th>\n",
       "      <th>savings_status</th>\n",
       "      <th>personal_status</th>\n",
       "      <th>property_magnitude</th>\n",
       "      <th>age</th>\n",
       "      <th>other_payment_plans</th>\n",
       "      <th>existing_credits</th>\n",
       "      <th>own_telephone</th>\n",
       "      <th>class</th>\n",
       "    </tr>\n",
       "  </thead>\n",
       "  <tbody>\n",
       "    <tr>\n",
       "      <th>0</th>\n",
       "      <td>1.0</td>\n",
       "      <td>6.0</td>\n",
       "      <td>6.0</td>\n",
       "      <td>4.0</td>\n",
       "      <td>3.0</td>\n",
       "      <td>3.0</td>\n",
       "      <td>67.0</td>\n",
       "      <td>1.0</td>\n",
       "      <td>1.0</td>\n",
       "      <td>1.0</td>\n",
       "      <td>1</td>\n",
       "    </tr>\n",
       "    <tr>\n",
       "      <th>1</th>\n",
       "      <td>0.0</td>\n",
       "      <td>48.0</td>\n",
       "      <td>6.0</td>\n",
       "      <td>2.0</td>\n",
       "      <td>0.0</td>\n",
       "      <td>3.0</td>\n",
       "      <td>22.0</td>\n",
       "      <td>1.0</td>\n",
       "      <td>0.0</td>\n",
       "      <td>0.0</td>\n",
       "      <td>0</td>\n",
       "    </tr>\n",
       "    <tr>\n",
       "      <th>2</th>\n",
       "      <td>3.0</td>\n",
       "      <td>12.0</td>\n",
       "      <td>2.0</td>\n",
       "      <td>2.0</td>\n",
       "      <td>3.0</td>\n",
       "      <td>3.0</td>\n",
       "      <td>49.0</td>\n",
       "      <td>1.0</td>\n",
       "      <td>0.0</td>\n",
       "      <td>0.0</td>\n",
       "      <td>1</td>\n",
       "    </tr>\n",
       "    <tr>\n",
       "      <th>3</th>\n",
       "      <td>1.0</td>\n",
       "      <td>42.0</td>\n",
       "      <td>3.0</td>\n",
       "      <td>2.0</td>\n",
       "      <td>3.0</td>\n",
       "      <td>1.0</td>\n",
       "      <td>45.0</td>\n",
       "      <td>1.0</td>\n",
       "      <td>0.0</td>\n",
       "      <td>0.0</td>\n",
       "      <td>1</td>\n",
       "    </tr>\n",
       "    <tr>\n",
       "      <th>4</th>\n",
       "      <td>1.0</td>\n",
       "      <td>24.0</td>\n",
       "      <td>4.0</td>\n",
       "      <td>2.0</td>\n",
       "      <td>3.0</td>\n",
       "      <td>2.0</td>\n",
       "      <td>53.0</td>\n",
       "      <td>1.0</td>\n",
       "      <td>1.0</td>\n",
       "      <td>0.0</td>\n",
       "      <td>0</td>\n",
       "    </tr>\n",
       "    <tr>\n",
       "      <th>5</th>\n",
       "      <td>3.0</td>\n",
       "      <td>24.0</td>\n",
       "      <td>3.0</td>\n",
       "      <td>1.0</td>\n",
       "      <td>3.0</td>\n",
       "      <td>1.0</td>\n",
       "      <td>53.0</td>\n",
       "      <td>1.0</td>\n",
       "      <td>0.0</td>\n",
       "      <td>0.0</td>\n",
       "      <td>1</td>\n",
       "    </tr>\n",
       "    <tr>\n",
       "      <th>6</th>\n",
       "      <td>0.0</td>\n",
       "      <td>36.0</td>\n",
       "      <td>9.0</td>\n",
       "      <td>2.0</td>\n",
       "      <td>3.0</td>\n",
       "      <td>0.0</td>\n",
       "      <td>35.0</td>\n",
       "      <td>1.0</td>\n",
       "      <td>0.0</td>\n",
       "      <td>1.0</td>\n",
       "      <td>1</td>\n",
       "    </tr>\n",
       "    <tr>\n",
       "      <th>7</th>\n",
       "      <td>3.0</td>\n",
       "      <td>12.0</td>\n",
       "      <td>6.0</td>\n",
       "      <td>3.0</td>\n",
       "      <td>1.0</td>\n",
       "      <td>3.0</td>\n",
       "      <td>61.0</td>\n",
       "      <td>1.0</td>\n",
       "      <td>0.0</td>\n",
       "      <td>0.0</td>\n",
       "      <td>1</td>\n",
       "    </tr>\n",
       "    <tr>\n",
       "      <th>8</th>\n",
       "      <td>0.0</td>\n",
       "      <td>30.0</td>\n",
       "      <td>4.0</td>\n",
       "      <td>2.0</td>\n",
       "      <td>2.0</td>\n",
       "      <td>0.0</td>\n",
       "      <td>28.0</td>\n",
       "      <td>1.0</td>\n",
       "      <td>1.0</td>\n",
       "      <td>0.0</td>\n",
       "      <td>0</td>\n",
       "    </tr>\n",
       "    <tr>\n",
       "      <th>9</th>\n",
       "      <td>0.0</td>\n",
       "      <td>12.0</td>\n",
       "      <td>4.0</td>\n",
       "      <td>2.0</td>\n",
       "      <td>0.0</td>\n",
       "      <td>0.0</td>\n",
       "      <td>25.0</td>\n",
       "      <td>1.0</td>\n",
       "      <td>0.0</td>\n",
       "      <td>0.0</td>\n",
       "      <td>0</td>\n",
       "    </tr>\n",
       "  </tbody>\n",
       "</table>\n",
       "</div>"
      ],
      "text/plain": [
       "   checking_status  duration  purpose  savings_status  personal_status  \\\n",
       "0              1.0       6.0      6.0             4.0              3.0   \n",
       "1              0.0      48.0      6.0             2.0              0.0   \n",
       "2              3.0      12.0      2.0             2.0              3.0   \n",
       "3              1.0      42.0      3.0             2.0              3.0   \n",
       "4              1.0      24.0      4.0             2.0              3.0   \n",
       "5              3.0      24.0      3.0             1.0              3.0   \n",
       "6              0.0      36.0      9.0             2.0              3.0   \n",
       "7              3.0      12.0      6.0             3.0              1.0   \n",
       "8              0.0      30.0      4.0             2.0              2.0   \n",
       "9              0.0      12.0      4.0             2.0              0.0   \n",
       "\n",
       "   property_magnitude   age  other_payment_plans  existing_credits  \\\n",
       "0                 3.0  67.0                  1.0               1.0   \n",
       "1                 3.0  22.0                  1.0               0.0   \n",
       "2                 3.0  49.0                  1.0               0.0   \n",
       "3                 1.0  45.0                  1.0               0.0   \n",
       "4                 2.0  53.0                  1.0               1.0   \n",
       "5                 1.0  53.0                  1.0               0.0   \n",
       "6                 0.0  35.0                  1.0               0.0   \n",
       "7                 3.0  61.0                  1.0               0.0   \n",
       "8                 0.0  28.0                  1.0               1.0   \n",
       "9                 0.0  25.0                  1.0               0.0   \n",
       "\n",
       "   own_telephone  class  \n",
       "0            1.0      1  \n",
       "1            0.0      0  \n",
       "2            0.0      1  \n",
       "3            0.0      1  \n",
       "4            0.0      0  \n",
       "5            0.0      1  \n",
       "6            1.0      1  \n",
       "7            0.0      1  \n",
       "8            0.0      0  \n",
       "9            0.0      0  "
      ]
     },
     "execution_count": 8,
     "metadata": {},
     "output_type": "execute_result"
    }
   ],
   "source": [
    "df_credit_risk = pd.read_csv(\n",
    "    '../0. Resources/datasets/data_credit_risk_preprocessed.csv')\n",
    "print(df_credit_risk.shape)\n",
    "df_credit_risk.head(10)"
   ]
  },
  {
   "cell_type": "code",
   "execution_count": 9,
   "id": "89344868",
   "metadata": {},
   "outputs": [
    {
     "name": "stdout",
     "output_type": "stream",
     "text": [
      "Training data of X has shape: (887, 10)\n",
      "Training data of y has shape: (887,)\n"
     ]
    }
   ],
   "source": [
    "X = df_credit_risk.drop('class', axis=1)\n",
    "y = df_credit_risk['class']\n",
    "X_train, X_test, y_train, y_test = train_test_split(\n",
    "    X, y, test_size=0.3, random_state=42)\n",
    "print(f'Training data of X has shape: {X_train.shape}')\n",
    "print(f'Training data of y has shape: {y_train.shape}')"
   ]
  },
  {
   "attachments": {},
   "cell_type": "markdown",
   "id": "c03221b0",
   "metadata": {},
   "source": [
    "## 2. Choose an algorithm\n"
   ]
  },
  {
   "cell_type": "markdown",
   "id": "18a0d749",
   "metadata": {},
   "source": [
    "Random Forest\n",
    "\n",
    "- There is an ensemble method called random forest. This method takes the average output of a number of deep decision trees and reduces the overfitting problem by using Bootstrap sampling in order to decrease the overfitting problem. The Bootstrap sampling process involves randomly sampling a dataset and then reshuffle the dataset. The dataset after bootstrapping sampling is still representative, but it is different from what it was before. We make multiple iterations of this process and bag the results.\n"
   ]
  },
  {
   "cell_type": "code",
   "execution_count": 10,
   "id": "99f1e410",
   "metadata": {},
   "outputs": [
    {
     "data": {
      "text/html": [
       "<style>#sk-container-id-2 {color: black;background-color: white;}#sk-container-id-2 pre{padding: 0;}#sk-container-id-2 div.sk-toggleable {background-color: white;}#sk-container-id-2 label.sk-toggleable__label {cursor: pointer;display: block;width: 100%;margin-bottom: 0;padding: 0.3em;box-sizing: border-box;text-align: center;}#sk-container-id-2 label.sk-toggleable__label-arrow:before {content: \"▸\";float: left;margin-right: 0.25em;color: #696969;}#sk-container-id-2 label.sk-toggleable__label-arrow:hover:before {color: black;}#sk-container-id-2 div.sk-estimator:hover label.sk-toggleable__label-arrow:before {color: black;}#sk-container-id-2 div.sk-toggleable__content {max-height: 0;max-width: 0;overflow: hidden;text-align: left;background-color: #f0f8ff;}#sk-container-id-2 div.sk-toggleable__content pre {margin: 0.2em;color: black;border-radius: 0.25em;background-color: #f0f8ff;}#sk-container-id-2 input.sk-toggleable__control:checked~div.sk-toggleable__content {max-height: 200px;max-width: 100%;overflow: auto;}#sk-container-id-2 input.sk-toggleable__control:checked~label.sk-toggleable__label-arrow:before {content: \"▾\";}#sk-container-id-2 div.sk-estimator input.sk-toggleable__control:checked~label.sk-toggleable__label {background-color: #d4ebff;}#sk-container-id-2 div.sk-label input.sk-toggleable__control:checked~label.sk-toggleable__label {background-color: #d4ebff;}#sk-container-id-2 input.sk-hidden--visually {border: 0;clip: rect(1px 1px 1px 1px);clip: rect(1px, 1px, 1px, 1px);height: 1px;margin: -1px;overflow: hidden;padding: 0;position: absolute;width: 1px;}#sk-container-id-2 div.sk-estimator {font-family: monospace;background-color: #f0f8ff;border: 1px dotted black;border-radius: 0.25em;box-sizing: border-box;margin-bottom: 0.5em;}#sk-container-id-2 div.sk-estimator:hover {background-color: #d4ebff;}#sk-container-id-2 div.sk-parallel-item::after {content: \"\";width: 100%;border-bottom: 1px solid gray;flex-grow: 1;}#sk-container-id-2 div.sk-label:hover label.sk-toggleable__label {background-color: #d4ebff;}#sk-container-id-2 div.sk-serial::before {content: \"\";position: absolute;border-left: 1px solid gray;box-sizing: border-box;top: 0;bottom: 0;left: 50%;z-index: 0;}#sk-container-id-2 div.sk-serial {display: flex;flex-direction: column;align-items: center;background-color: white;padding-right: 0.2em;padding-left: 0.2em;position: relative;}#sk-container-id-2 div.sk-item {position: relative;z-index: 1;}#sk-container-id-2 div.sk-parallel {display: flex;align-items: stretch;justify-content: center;background-color: white;position: relative;}#sk-container-id-2 div.sk-item::before, #sk-container-id-2 div.sk-parallel-item::before {content: \"\";position: absolute;border-left: 1px solid gray;box-sizing: border-box;top: 0;bottom: 0;left: 50%;z-index: -1;}#sk-container-id-2 div.sk-parallel-item {display: flex;flex-direction: column;z-index: 1;position: relative;background-color: white;}#sk-container-id-2 div.sk-parallel-item:first-child::after {align-self: flex-end;width: 50%;}#sk-container-id-2 div.sk-parallel-item:last-child::after {align-self: flex-start;width: 50%;}#sk-container-id-2 div.sk-parallel-item:only-child::after {width: 0;}#sk-container-id-2 div.sk-dashed-wrapped {border: 1px dashed gray;margin: 0 0.4em 0.5em 0.4em;box-sizing: border-box;padding-bottom: 0.4em;background-color: white;}#sk-container-id-2 div.sk-label label {font-family: monospace;font-weight: bold;display: inline-block;line-height: 1.2em;}#sk-container-id-2 div.sk-label-container {text-align: center;}#sk-container-id-2 div.sk-container {/* jupyter's `normalize.less` sets `[hidden] { display: none; }` but bootstrap.min.css set `[hidden] { display: none !important; }` so we also need the `!important` here to be able to override the default hidden behavior on the sphinx rendered scikit-learn.org. See: https://github.com/scikit-learn/scikit-learn/issues/21755 */display: inline-block !important;position: relative;}#sk-container-id-2 div.sk-text-repr-fallback {display: none;}</style><div id=\"sk-container-id-2\" class=\"sk-top-container\"><div class=\"sk-text-repr-fallback\"><pre>RandomForestClassifier(random_state=101)</pre><b>In a Jupyter environment, please rerun this cell to show the HTML representation or trust the notebook. <br />On GitHub, the HTML representation is unable to render, please try loading this page with nbviewer.org.</b></div><div class=\"sk-container\" hidden><div class=\"sk-item\"><div class=\"sk-estimator sk-toggleable\"><input class=\"sk-toggleable__control sk-hidden--visually\" id=\"sk-estimator-id-2\" type=\"checkbox\" checked><label for=\"sk-estimator-id-2\" class=\"sk-toggleable__label sk-toggleable__label-arrow\">RandomForestClassifier</label><div class=\"sk-toggleable__content\"><pre>RandomForestClassifier(random_state=101)</pre></div></div></div></div></div>"
      ],
      "text/plain": [
       "RandomForestClassifier(random_state=101)"
      ]
     },
     "execution_count": 10,
     "metadata": {},
     "output_type": "execute_result"
    }
   ],
   "source": [
    "rf = RandomForestClassifier(random_state=RANDOM_STATE)\n",
    "rf.fit(X_train, y_train)"
   ]
  },
  {
   "cell_type": "code",
   "execution_count": 17,
   "id": "6f53f80c",
   "metadata": {},
   "outputs": [
    {
     "data": {
      "text/plain": [
       "{'bootstrap': True,\n",
       " 'ccp_alpha': 0.0,\n",
       " 'class_weight': None,\n",
       " 'criterion': 'gini',\n",
       " 'max_depth': 15,\n",
       " 'max_features': 'sqrt',\n",
       " 'max_leaf_nodes': None,\n",
       " 'max_samples': None,\n",
       " 'min_impurity_decrease': 0.0,\n",
       " 'min_samples_leaf': 1,\n",
       " 'min_samples_split': 2,\n",
       " 'min_weight_fraction_leaf': 0.0,\n",
       " 'n_estimators': 100,\n",
       " 'n_jobs': None,\n",
       " 'oob_score': False,\n",
       " 'random_state': 101,\n",
       " 'verbose': 0,\n",
       " 'warm_start': False}"
      ]
     },
     "execution_count": 17,
     "metadata": {},
     "output_type": "execute_result"
    }
   ],
   "source": [
    "rf.get_params()"
   ]
  },
  {
   "attachments": {},
   "cell_type": "markdown",
   "id": "3e06351b",
   "metadata": {},
   "source": [
    "## 3. Train and test a model\n"
   ]
  },
  {
   "cell_type": "code",
   "execution_count": 11,
   "id": "619bb3d3",
   "metadata": {},
   "outputs": [
    {
     "data": {
      "text/plain": [
       "0.7637795275590551"
      ]
     },
     "execution_count": 11,
     "metadata": {},
     "output_type": "execute_result"
    }
   ],
   "source": [
    "y_pred_rf = rf.predict(X_test)\n",
    "accuracy_score(y_test, y_pred_rf)"
   ]
  },
  {
   "cell_type": "code",
   "execution_count": 12,
   "id": "943aa4a4",
   "metadata": {},
   "outputs": [
    {
     "data": {
      "text/plain": [
       "0.7716535433070866"
      ]
     },
     "execution_count": 12,
     "metadata": {},
     "output_type": "execute_result"
    }
   ],
   "source": [
    "rf = RandomForestClassifier(max_depth=15, random_state=RANDOM_STATE)\n",
    "rf.fit(X_train, y_train)\n",
    "y_pred_rf = rf.predict(X_test)\n",
    "\n",
    "accuracy_score(y_test, y_pred_rf)"
   ]
  },
  {
   "cell_type": "code",
   "execution_count": 13,
   "id": "6c789649",
   "metadata": {},
   "outputs": [
    {
     "name": "stdout",
     "output_type": "stream",
     "text": [
      "Cross Validation accuracy scores: [0.74157303 0.7752809  0.70786517 0.71910112 0.80898876 0.79775281\n",
      " 0.84269663 0.84090909 0.75       0.80681818]\n",
      "Cross Validation accuracy: 0.779 +/- 0.046\n"
     ]
    }
   ],
   "source": [
    "scores = cross_val_score(rf, X_train, y_train, cv=10, n_jobs=-1)\n",
    "\n",
    "print('Cross Validation accuracy scores: %s' % scores)\n",
    "print('Cross Validation accuracy: %.3f +/- %.3f' %\n",
    "      (np.mean(scores), np.std(scores)))"
   ]
  },
  {
   "attachments": {},
   "cell_type": "markdown",
   "id": "5cafcd88",
   "metadata": {},
   "source": [
    "## 4. Evaluate the model\n"
   ]
  },
  {
   "cell_type": "code",
   "execution_count": 14,
   "id": "4cfafb6c",
   "metadata": {},
   "outputs": [],
   "source": [
    "def evaluate_model(dt_classifier):\n",
    "\n",
    "    print(\"Train Accuracy : {0:.3f}\".format(\n",
    "        accuracy_score(y_train, dt_classifier.predict(X_train))))\n",
    "    print(\"Train Confusion Matrix:\")\n",
    "    print(confusion_matrix(y_train, dt_classifier.predict(X_train)))\n",
    "    print(classification_report(y_train, dt_classifier.predict(X_train)))\n",
    "\n",
    "    false_positive_rate, true_positive_rate, thresholds = roc_curve(\n",
    "        y_train, dt_classifier.predict(X_train))\n",
    "    roc_auc = auc(false_positive_rate, true_positive_rate)\n",
    "    plt.title('Receiver Operating Characteristic')\n",
    "    plt.plot(false_positive_rate, true_positive_rate, 'b',\n",
    "             label='AUC = %0.2f' % roc_auc)\n",
    "    plt.legend(loc='lower right')\n",
    "    plt.plot([0, 1], [0, 1], 'r--')\n",
    "    plt.xlim([-0.1, 1.2])\n",
    "    plt.ylim([-0.1, 1.2])\n",
    "    plt.ylabel('True Positive Rate')\n",
    "    plt.xlabel('False Positive Rate')\n",
    "    plt.show()\n",
    "\n",
    "    print(\"-\"*50)\n",
    "    print(\"Test Accuracy : {0:.3f}\".format(\n",
    "        accuracy_score(y_test, dt_classifier.predict(X_test))))\n",
    "    print(\"Test Confusion Matrix:\")\n",
    "    print(confusion_matrix(y_test, dt_classifier.predict(X_test)))\n",
    "    print(classification_report(y_test, dt_classifier.predict(X_test)))\n",
    "\n",
    "    false_positive_rate_test, true_positive_rate_test, thresholds_test = roc_curve(\n",
    "        y_test, dt_classifier.predict(X_test))\n",
    "    roc_auc_test = auc(false_positive_rate_test, true_positive_rate_test)\n",
    "    plt.title('Receiver Operating Characteristic')\n",
    "    plt.plot(false_positive_rate_test, true_positive_rate_test, 'b',\n",
    "             label='AUC = %0.2f' % roc_auc_test)\n",
    "    plt.legend(loc='lower right')\n",
    "    plt.plot([0, 1], [0, 1], 'r--')\n",
    "    plt.xlim([-0.1, 1.2])\n",
    "    plt.ylim([-0.1, 1.2])\n",
    "    plt.ylabel('True Positive Rate')\n",
    "    plt.xlabel('False Positive Rate')\n",
    "    plt.show()"
   ]
  },
  {
   "cell_type": "code",
   "execution_count": 15,
   "id": "55b0785c",
   "metadata": {},
   "outputs": [
    {
     "name": "stdout",
     "output_type": "stream",
     "text": [
      "Train Accuracy : 0.999\n",
      "Train Confusion Matrix:\n",
      "[[454   0]\n",
      " [  1 432]]\n",
      "              precision    recall  f1-score   support\n",
      "\n",
      "           0       1.00      1.00      1.00       454\n",
      "           1       1.00      1.00      1.00       433\n",
      "\n",
      "    accuracy                           1.00       887\n",
      "   macro avg       1.00      1.00      1.00       887\n",
      "weighted avg       1.00      1.00      1.00       887\n",
      "\n"
     ]
    },
    {
     "data": {
      "image/png": "[encoded data removed]",
      "text/plain": [
       "<Figure size 640x480 with 1 Axes>"
      ]
     },
     "metadata": {},
     "output_type": "display_data"
    },
    {
     "name": "stdout",
     "output_type": "stream",
     "text": [
      "--------------------------------------------------\n",
      "Test Accuracy : 0.772\n",
      "Test Confusion Matrix:\n",
      "[[151  29]\n",
      " [ 58 143]]\n",
      "              precision    recall  f1-score   support\n",
      "\n",
      "           0       0.72      0.84      0.78       180\n",
      "           1       0.83      0.71      0.77       201\n",
      "\n",
      "    accuracy                           0.77       381\n",
      "   macro avg       0.78      0.78      0.77       381\n",
      "weighted avg       0.78      0.77      0.77       381\n",
      "\n"
     ]
    },
    {
     "data": {
      "image/png": "[encoded data removed]",
      "text/plain": [
       "<Figure size 640x480 with 1 Axes>"
      ]
     },
     "metadata": {},
     "output_type": "display_data"
    }
   ],
   "source": [
    "evaluate_model(rf)"
   ]
  },
  {
   "cell_type": "code",
   "execution_count": 16,
   "id": "0553a5d7",
   "metadata": {},
   "outputs": [],
   "source": [
    "pickle.dump(rf, open('../0. Resources/models/model.pkl', 'wb'))"
   ]
  },
  {
   "cell_type": "markdown",
   "id": "e07ef263",
   "metadata": {},
   "source": [
    "### Hyperparameter Tuning\n"
   ]
  },
  {
   "cell_type": "code",
   "execution_count": 24,
   "id": "c0703dff",
   "metadata": {},
   "outputs": [
    {
     "name": "stdout",
     "output_type": "stream",
     "text": [
      "Fitting 5 folds for each of 324 candidates, totalling 1620 fits\n"
     ]
    },
    {
     "data": {
      "text/plain": [
       "({'max_depth': None,\n",
       "  'max_features': None,\n",
       "  'min_samples_leaf': 4,\n",
       "  'min_samples_split': 10,\n",
       "  'n_estimators': 200},\n",
       " 0.796045197740113)"
      ]
     },
     "execution_count": 24,
     "metadata": {},
     "output_type": "execute_result"
    }
   ],
   "source": [
    "param_grid_rf = {\n",
    "    'n_estimators': [50, 100, 200],\n",
    "    'max_features': [None, 'log2', 'sqrt'],\n",
    "    'max_depth': [None, 10, 20, 30],\n",
    "    'min_samples_split': [2, 5, 10],\n",
    "    'min_samples_leaf': [1, 2, 4]\n",
    "}\n",
    "rf_grid = GridSearchCV(\n",
    "    rf, param_grid_rf, scoring='accuracy', cv=5, verbose=1, n_jobs=5)\n",
    "\n",
    "rf_grid.fit(X_train, y_train)\n",
    "\n",
    "\n",
    "best_params = rf_grid.best_params_\n",
    "best_accuracy = rf_grid.best_score_\n",
    "\n",
    "best_params, best_accuracy"
   ]
  }
 ],
 "metadata": {
  "kernelspec": {
   "display_name": "venv",
   "language": "python",
   "name": "venv"
  },
  "language_info": {
   "codemirror_mode": {
    "name": "ipython",
    "version": 3
   },
   "file_extension": ".py",
   "mimetype": "text/x-python",
   "name": "python",
   "nbconvert_exporter": "python",
   "pygments_lexer": "ipython3",
   "version": "3.11.3"
  }
 },
 "nbformat": 4,
 "nbformat_minor": 5
}
